{
 "cells": [
  {
   "cell_type": "markdown",
   "id": "ffb6d7c3",
   "metadata": {},
   "source": [
    "# Question 1:"
   ]
  },
  {
   "cell_type": "code",
   "execution_count": 1,
   "id": "300976ad",
   "metadata": {},
   "outputs": [
    {
     "name": "stdout",
     "output_type": "stream",
     "text": [
      "Twinkle, twinkle,little star,\n",
      "           How I wonder what you are!\n",
      "                Up above the world so high,\n",
      "                Like a diamond in the sky.\n",
      "Twinkle, twinkle,little star,\n",
      "           How I wonder what you are!\n"
     ]
    }
   ],
   "source": [
    " print(\"Twinkle, twinkle,little star,\")\n",
    "print(\"           How I wonder what you are!\")\n",
    "print(\"                Up above the world so high,\")\n",
    "print(\"                Like a diamond in the sky.\")\n",
    "print(\"Twinkle, twinkle,little star,\")\n",
    "print(\"           How I wonder what you are!\")"
   ]
  },
  {
   "cell_type": "markdown",
   "id": "e9f0c93b",
   "metadata": {},
   "source": [
    "# Question 2:"
   ]
  },
  {
   "cell_type": "code",
   "execution_count": 3,
   "id": "6e80c916",
   "metadata": {},
   "outputs": [
    {
     "name": "stdout",
     "output_type": "stream",
     "text": [
      "python version:\n",
      "3.8.8\n"
     ]
    }
   ],
   "source": [
    "import platform\n",
    "print(\"python version:\")\n",
    "print(platform.python_version())"
   ]
  },
  {
   "cell_type": "markdown",
   "id": "cde5e4a2",
   "metadata": {},
   "source": [
    "# Question 4:"
   ]
  },
  {
   "cell_type": "code",
   "execution_count": 5,
   "id": "91a82912",
   "metadata": {},
   "outputs": [
    {
     "name": "stdout",
     "output_type": "stream",
     "text": [
      "Enter radius4.66\n",
      "Area of cirlce is: 68.18698400000001\n"
     ]
    }
   ],
   "source": [
    "Radius=float(input(\"Enter radius\"))\n",
    "A=3.14*Radius*Radius\n",
    "print(\"Area of cirlce is:\",A)\n"
   ]
  },
  {
   "cell_type": "markdown",
   "id": "a81276d0",
   "metadata": {},
   "source": [
    "# Question 3:"
   ]
  },
  {
   "cell_type": "code",
   "execution_count": 8,
   "id": "c457cf66",
   "metadata": {},
   "outputs": [
    {
     "name": "stdout",
     "output_type": "stream",
     "text": [
      "Current date and time : \n",
      "01-01-2022 19:11:05\n"
     ]
    }
   ],
   "source": [
    "import datetime\n",
    "now = datetime.datetime.now()\n",
    "print (\"Current date and time : \")\n",
    "print (now.strftime(\"%d-%m-%Y %H:%M:%S\"))"
   ]
  },
  {
   "cell_type": "markdown",
   "id": "2d0447bd",
   "metadata": {},
   "source": [
    "# Question 5:"
   ]
  },
  {
   "cell_type": "code",
   "execution_count": 10,
   "id": "22044969",
   "metadata": {},
   "outputs": [
    {
     "name": "stdout",
     "output_type": "stream",
     "text": [
      "Enter First name:Maham\n",
      "Enter Last name:Naeem\n",
      "mahaM\n",
      "meeaN\n"
     ]
    }
   ],
   "source": [
    "First_name=input(\"Enter First name:\")\n",
    "Last_name=input(\"Enter Last name:\")\n",
    "print(First_name[::-1])\n",
    "print(Last_name[::-1])"
   ]
  },
  {
   "cell_type": "markdown",
   "id": "a763799b",
   "metadata": {},
   "source": [
    "# Question 6:"
   ]
  },
  {
   "cell_type": "code",
   "execution_count": 11,
   "id": "4ed265a6",
   "metadata": {},
   "outputs": [
    {
     "name": "stdout",
     "output_type": "stream",
     "text": [
      "Enter 1st no:2\n",
      "Enter 2nd no:4\n",
      "Addition: 6\n"
     ]
    }
   ],
   "source": [
    "X=int(input(\"Enter 1st no:\"))\n",
    "Y=int(input(\"Enter 2nd no:\"))\n",
    "Add=X+Y\n",
    "print(\"Addition:\",Add)"
   ]
  },
  {
   "cell_type": "code",
   "execution_count": null,
   "id": "10a30b67",
   "metadata": {},
   "outputs": [],
   "source": []
  }
 ],
 "metadata": {
  "kernelspec": {
   "display_name": "Python 3",
   "language": "python",
   "name": "python3"
  },
  "language_info": {
   "codemirror_mode": {
    "name": "ipython",
    "version": 3
   },
   "file_extension": ".py",
   "mimetype": "text/x-python",
   "name": "python",
   "nbconvert_exporter": "python",
   "pygments_lexer": "ipython3",
   "version": "3.8.8"
  }
 },
 "nbformat": 4,
 "nbformat_minor": 5
}
